{
  "nbformat": 4,
  "nbformat_minor": 0,
  "metadata": {
    "colab": {
      "provenance": []
    },
    "kernelspec": {
      "name": "python3",
      "display_name": "Python 3"
    },
    "language_info": {
      "name": "python"
    }
  },
  "cells": [
    {
      "cell_type": "code",
      "execution_count": null,
      "metadata": {
        "id": "yRF_UEbL_oAQ"
      },
      "outputs": [],
      "source": [
        "print(\"Welcome to the circunference calculator\")\n",
        "raio = int(input(\"Tell the radius of the circunference: \"))\n",
        "\n",
        "def calc_circunference(raio):\n",
        "  diameter = radius * 2\n",
        "  perimeter = 2 * 3.14 * radius\n",
        "  area = 3.14 * (radius ** 2)\n",
        "  print(f\"The circunference area is: {area}\")\n",
        "  print(f\"The circunference perimeter is: {perimeter}\")\n",
        "  print(f\"The circunference diameter is: {diameter}\")\n",
        "\n",
        "calc_circunference(raio)"
      ]
    }
  ]
}